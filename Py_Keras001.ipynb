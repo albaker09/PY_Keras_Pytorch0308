{
  "nbformat": 4,
  "nbformat_minor": 0,
  "metadata": {
    "colab": {
      "provenance": []
    },
    "kernelspec": {
      "name": "python3",
      "display_name": "Python 3"
    },
    "language_info": {
      "name": "python"
    }
  },
  "cells": [
    {
      "cell_type": "code",
      "execution_count": null,
      "metadata": {
        "colab": {
          "base_uri": "https://localhost:8080/"
        },
        "id": "V6LEFutEryTe",
        "outputId": "b6cd0e7e-6ed6-4d0c-ee1c-f9b653609a77"
      },
      "outputs": [
        {
          "output_type": "stream",
          "name": "stdout",
          "text": [
            "파이썬 케라스로 시작하는 AI기초\n"
          ]
        }
      ],
      "source": [
        "print (\"파이썬 케라스로 시작하는 AI기초\")"
      ]
    },
    {
      "cell_type": "code",
      "source": [],
      "metadata": {
        "id": "53WoCI4_P4RV"
      },
      "execution_count": null,
      "outputs": []
    },
    {
      "cell_type": "code",
      "source": [
        " a = (1,2,3,4,5)\n",
        " print (a, \", 숫자 튜플\")\n",
        " a = ('this', 'string', 'is', 'a', 'simple')\n",
        " print (a, \", 문자 튜플\")\n",
        " a = (1,2,3, 'this','is')\n",
        " print (a, \", 숫자 및 문자 튜플\")\n",
        " a = (1,2, 'this', 'string', 'is', 'a', 'simple', 3,4,5  )\n",
        " print (a, ', 복합튜플')\n"
      ],
      "metadata": {
        "colab": {
          "base_uri": "https://localhost:8080/"
        },
        "id": "tCvi1f5X0VZS",
        "outputId": "2811fa2c-ab0d-4af0-ff99-58d166191570"
      },
      "execution_count": null,
      "outputs": [
        {
          "output_type": "stream",
          "name": "stdout",
          "text": [
            "(1, 2, 3, 4, 5) , 숫자 튜플\n",
            "('this', 'string', 'is', 'a', 'simple') , 문자 튜플\n",
            "(1, 2, 3, 'this', 'is') , 숫자 및 문자 튜플\n",
            "(1, 2, 'this', 'string', 'is', 'a', 'simple', 3, 4, 5) , 복합튜플\n"
          ]
        }
      ]
    },
    {
      "cell_type": "code",
      "source": [
        "x1 = \"function\"\n",
        "print (x1.count('n'), \"문자열 x1에 있는 문자 n의 개수\")\n",
        "print (x1.index('c'), \", 문자열 x1에 있는 'c'의 위치(인텍스)\")\n",
        "print (\"\\n\")\n"
      ],
      "metadata": {
        "colab": {
          "base_uri": "https://localhost:8080/"
        },
        "id": "YNKJtRwzH73o",
        "outputId": "b6834252-b1ef-493c-ae34-9b5c02b616ee"
      },
      "execution_count": null,
      "outputs": [
        {
          "output_type": "stream",
          "name": "stdout",
          "text": [
            "2 문자열 x1에 있는 문자 n의 개수\n",
            "3 , 문자열 x1에 있는 'c'의 위치(인텍스)\n",
            "\n",
            "\n"
          ]
        }
      ]
    },
    {
      "cell_type": "code",
      "source": [
        "x2 = [3,3,5,7,8]\n",
        "print (x2.count(3), \"문자열 x1에 있는 문자 n의 개수\")\n",
        "print (x2.index(5), \", 문자열 x1에 있는 'c'의 위치(인텍스)\")\n",
        "print (\"\\n\")"
      ],
      "metadata": {
        "colab": {
          "base_uri": "https://localhost:8080/",
          "height": 221
        },
        "id": "UUH7HSP-U8mV",
        "outputId": "648540ea-5f8f-452c-b848-fe34ff6342a3"
      },
      "execution_count": null,
      "outputs": [
        {
          "output_type": "stream",
          "name": "stdout",
          "text": [
            "0 문자열 x1에 있는 문자 n의 개수\n"
          ]
        },
        {
          "output_type": "error",
          "ename": "ValueError",
          "evalue": "'5' is not in list",
          "traceback": [
            "\u001b[0;31m---------------------------------------------------------------------------\u001b[0m",
            "\u001b[0;31mValueError\u001b[0m                                Traceback (most recent call last)",
            "\u001b[0;32m<ipython-input-5-cdf46fb1b3eb>\u001b[0m in \u001b[0;36m<cell line: 3>\u001b[0;34m()\u001b[0m\n\u001b[1;32m      1\u001b[0m \u001b[0mx2\u001b[0m \u001b[0;34m=\u001b[0m \u001b[0;34m[\u001b[0m\u001b[0;36m3\u001b[0m\u001b[0;34m,\u001b[0m\u001b[0;36m3\u001b[0m\u001b[0;34m,\u001b[0m\u001b[0;36m5\u001b[0m\u001b[0;34m,\u001b[0m\u001b[0;36m7\u001b[0m\u001b[0;34m,\u001b[0m\u001b[0;36m8\u001b[0m\u001b[0;34m]\u001b[0m\u001b[0;34m\u001b[0m\u001b[0;34m\u001b[0m\u001b[0m\n\u001b[1;32m      2\u001b[0m \u001b[0mprint\u001b[0m \u001b[0;34m(\u001b[0m\u001b[0mx2\u001b[0m\u001b[0;34m.\u001b[0m\u001b[0mcount\u001b[0m\u001b[0;34m(\u001b[0m\u001b[0;34m'3'\u001b[0m\u001b[0;34m)\u001b[0m\u001b[0;34m,\u001b[0m \u001b[0;34m\"문자열 x1에 있는 문자 n의 개수\"\u001b[0m\u001b[0;34m)\u001b[0m\u001b[0;34m\u001b[0m\u001b[0;34m\u001b[0m\u001b[0m\n\u001b[0;32m----> 3\u001b[0;31m \u001b[0mprint\u001b[0m \u001b[0;34m(\u001b[0m\u001b[0mx2\u001b[0m\u001b[0;34m.\u001b[0m\u001b[0mindex\u001b[0m\u001b[0;34m(\u001b[0m\u001b[0;34m'5'\u001b[0m\u001b[0;34m)\u001b[0m\u001b[0;34m,\u001b[0m \u001b[0;34m\", 문자열 x1에 있는 'c'의 위치(인텍스)\"\u001b[0m\u001b[0;34m)\u001b[0m\u001b[0;34m\u001b[0m\u001b[0;34m\u001b[0m\u001b[0m\n\u001b[0m\u001b[1;32m      4\u001b[0m \u001b[0mprint\u001b[0m \u001b[0;34m(\u001b[0m\u001b[0;34m\"\\n\"\u001b[0m\u001b[0;34m)\u001b[0m\u001b[0;34m\u001b[0m\u001b[0;34m\u001b[0m\u001b[0m\n",
            "\u001b[0;31mValueError\u001b[0m: '5' is not in list"
          ]
        }
      ]
    },
    {
      "cell_type": "code",
      "source": [
        "x1 = \"5fu5n444c5tio5n5\"\n",
        "print (x1.count('5'), \"문자열 x1에 있는 문자(숫자) 5의 개수\")\n",
        "print (x1.index('c'), \", 문자열 x1에 있는 'c'의 위치(인텍스)\")\n",
        "print (\"\\n\")"
      ],
      "metadata": {
        "colab": {
          "base_uri": "https://localhost:8080/"
        },
        "id": "5YGnhyXEVynN",
        "outputId": "29fb4db1-59ab-4eb0-88b7-8c6cd60405e8"
      },
      "execution_count": null,
      "outputs": [
        {
          "output_type": "stream",
          "name": "stdout",
          "text": [
            "5 문자열 x1에 있는 문자(숫자) 5의 개수\n",
            "8 , 문자열 x1에 있는 'c'의 위치(인텍스)\n",
            "\n",
            "\n"
          ]
        }
      ]
    },
    {
      "cell_type": "code",
      "source": [
        "from collections.abc import ValuesView\n",
        "x1 = \"function\"\n",
        "print (x1.count('n'), \"문자열 x1에 있는 문자 n의 개수\")\n",
        "print (x1.index('c'), \", 문자열 x1에 있는 'c'의 위치(인텍스)\")\n",
        "print (\"\\n\")\n",
        "x2 = [3,3,5,7,8]\n",
        "print (x2.count(3), \"문자열 x1에 있는 문자 n의 개수\")\n",
        "print (x2.index(5), \", 문자열 x1에 있는 'c'의 위치(인텍스)\")\n",
        "print (\"\\n\")\n",
        "x3 = {1:'car',2:'airplane', 3:'ship'}\n",
        "print (x3.get(1), \", 딕셔너리 x3의 key1에 대응하는 Value값 \")\n",
        "print (x3.keys(), \", 딕셔너리 x3의 key 리스트\")\n",
        "print (x3.values(), \", 딕셔너리 x3의 Value리스트\")\n",
        "print (x3.items(), \", 딕셔너리 x3의 (key, Value) 쌍 리스트\")"
      ],
      "metadata": {
        "colab": {
          "base_uri": "https://localhost:8080/"
        },
        "id": "iz037DgdWRon",
        "outputId": "a6c53787-4515-4d88-a476-36e0d6ab39a9"
      },
      "execution_count": null,
      "outputs": [
        {
          "output_type": "stream",
          "name": "stdout",
          "text": [
            "2 문자열 x1에 있는 문자 n의 개수\n",
            "3 , 문자열 x1에 있는 'c'의 위치(인텍스)\n",
            "\n",
            "\n",
            "2 문자열 x1에 있는 문자 n의 개수\n",
            "2 , 문자열 x1에 있는 'c'의 위치(인텍스)\n",
            "\n",
            "\n",
            "car , 딕셔너리 x3의 key1에 대응하는 Value값 \n",
            "dict_keys([1, 2, 3]) , 딕셔너리 x3의 key 리스트\n",
            "dict_values(['car', 'airplane', 'ship']) , 딕셔너리 x3의 Value리스트\n",
            "dict_items([(1, 'car'), (2, 'airplane'), (3, 'ship')]) , 딕셔너리 x3의 (key, Value) 쌍 리스트\n"
          ]
        }
      ]
    },
    {
      "cell_type": "code",
      "source": [
        "x1 = 4 + 3\n",
        "x2 = 4 > 3\n",
        "x3 = False\n",
        "y1 = x1 and x2 and x3\n",
        "if y1:\n",
        "  print(bool(x1), \"x1 condition\")\n",
        "  print(\"condition is True\")\n",
        "else:\n",
        "  print(x3, \", x3 condition\")\n",
        "  print(\"condition is false\")"
      ],
      "metadata": {
        "id": "6ah04yE6dIrn",
        "colab": {
          "base_uri": "https://localhost:8080/"
        },
        "outputId": "9cbefb48-57db-46c0-e16d-e60fc6d69070"
      },
      "execution_count": null,
      "outputs": [
        {
          "output_type": "stream",
          "name": "stdout",
          "text": [
            "False , x3 condition\n",
            "condition is false\n"
          ]
        }
      ]
    },
    {
      "cell_type": "code",
      "source": [
        "x1 = range(3)\n",
        "\n",
        "for y in x1:\n",
        "  print(y)\n",
        "z = [y+2 for y in x1 if y >= 0]# list comprehension\n",
        "print(z)\n",
        "z = [y+2 for y in x1 if y >= 1]# list comprehension\n",
        "print(z)"
      ],
      "metadata": {
        "colab": {
          "base_uri": "https://localhost:8080/"
        },
        "id": "XOlRoOezsWzO",
        "outputId": "913edccc-54f4-4092-c9b2-36dc6bf12c04"
      },
      "execution_count": null,
      "outputs": [
        {
          "output_type": "stream",
          "name": "stdout",
          "text": [
            "0\n",
            "1\n",
            "2\n",
            "[2, 3, 4]\n",
            "[3, 4]\n"
          ]
        }
      ]
    },
    {
      "cell_type": "code",
      "source": [
        "x1 = range(1, 10) # x1 = [1 ,2, ....,9]\n",
        "x2 = range(1, 10)\n",
        "# for i in x1:\n",
        "#  for j in  x2:\n",
        "#   print(i*j, end=\" \")\n",
        "#  print(end =\"\\n\")\n",
        "for i in x1:\n",
        "  for j in x2:\n",
        "    print(i * j, end=\" \")\n",
        "  print(end=\"\\n\")"
      ],
      "metadata": {
        "colab": {
          "base_uri": "https://localhost:8080/"
        },
        "id": "FeLAbX04xyOY",
        "outputId": "b4f24b26-9232-4db8-d3e2-aef945a4c849"
      },
      "execution_count": null,
      "outputs": [
        {
          "output_type": "stream",
          "name": "stdout",
          "text": [
            "1 2 3 4 5 6 7 8 9 \n",
            "2 4 6 8 10 12 14 16 18 \n",
            "3 6 9 12 15 18 21 24 27 \n",
            "4 8 12 16 20 24 28 32 36 \n",
            "5 10 15 20 25 30 35 40 45 \n",
            "6 12 18 24 30 36 42 48 54 \n",
            "7 14 21 28 35 42 49 56 63 \n",
            "8 16 24 32 40 48 56 64 72 \n",
            "9 18 27 36 45 54 63 72 81 \n"
          ]
        }
      ]
    },
    {
      "cell_type": "code",
      "source": [
        "x1 = range(1, 10) # x1 = [1 ,2, ....,9]\n",
        "x2 = range(1, 10)\n",
        " for i in x1:\n",
        "   for j in  x2:\n",
        "      print(i*j, end=\" \")\n",
        "   print(end =\"\\n\")"
      ],
      "metadata": {
        "colab": {
          "base_uri": "https://localhost:8080/",
          "height": 110
        },
        "id": "43ift9v905Ob",
        "outputId": "0ab1873d-ddbe-42ca-d0d3-669e15e3494b"
      },
      "execution_count": null,
      "outputs": [
        {
          "output_type": "error",
          "ename": "IndentationError",
          "evalue": "unexpected indent (<ipython-input-15-390aa9c5625f>, line 3)",
          "traceback": [
            "\u001b[0;36m  File \u001b[0;32m\"<ipython-input-15-390aa9c5625f>\"\u001b[0;36m, line \u001b[0;32m3\u001b[0m\n\u001b[0;31m    for i in x1:\u001b[0m\n\u001b[0m    ^\u001b[0m\n\u001b[0;31mIndentationError\u001b[0m\u001b[0;31m:\u001b[0m unexpected indent\n"
          ]
        }
      ]
    },
    {
      "cell_type": "code",
      "source": [
        "string_data = \"\"\"\n",
        "Google의 생성형 코드 기능은 기존 콘텐츠를 길게 복제하는 것이 아니라 오리지널 콘텐츠를 만들기 위한 것입니다.\n",
        "Google에서는 AI 코딩 기능이 기존 콘텐츠를 복제할 가능성을 줄이는 방향으로 시스템을 설계했으며, 계속해서\n",
        "시스템의 작동 방식을 개선할 예정입니다. 이러한 기능에서 웹페이지로부터 직접 길게 인용할 경우 해당 페이지를\n",
        "인용으로 표시합니다.\n",
        "\"\"\"\n",
        "\n",
        "data = string_data.split(\"\\n\")\n",
        "print(data)\n",
        "file = open(\"string.txt\", \"w\")\n",
        "for line in data:\n",
        "  print(line)\n",
        "  if line == \"\":\n",
        "    file.write(\"\\n\")\n",
        "  else:\n",
        "    file.write(line)\n",
        "    file.write(\"\\n\")\n",
        "  file.close()\n",
        "\n",
        "  file1 = open(\"string.txt\", \"r\")\n",
        "  data1 = file1.readlines()\n",
        "  print(data1)\n",
        "  for line in data1:\n",
        "    print(line, end=\"   \")\n",
        "    file.close()"
      ],
      "metadata": {
        "colab": {
          "base_uri": "https://localhost:8080/",
          "height": 332
        },
        "id": "kOsefUKC1Ran",
        "outputId": "5f6df8f2-6fbb-410f-b578-dd3e9497bf3b"
      },
      "execution_count": null,
      "outputs": [
        {
          "output_type": "stream",
          "name": "stdout",
          "text": [
            "['', 'Google의 생성형 코드 기능은 기존 콘텐츠를 길게 복제하는 것이 아니라 오리지널 콘텐츠를 만들기 위한 것입니다.', 'Google에서는 AI 코딩 기능이 기존 콘텐츠를 복제할 가능성을 줄이는 방향으로 시스템을 설계했으며, 계속해서', '시스템의 작동 방식을 개선할 예정입니다. 이러한 기능에서 웹페이지로부터 직접 길게 인용할 경우 해당 페이지를', '인용으로 표시합니다.', '']\n",
            "\n",
            "['\\n']\n",
            "\n",
            "   Google의 생성형 코드 기능은 기존 콘텐츠를 길게 복제하는 것이 아니라 오리지널 콘텐츠를 만들기 위한 것입니다.\n"
          ]
        },
        {
          "output_type": "error",
          "ename": "ValueError",
          "evalue": "I/O operation on closed file.",
          "traceback": [
            "\u001b[0;31m---------------------------------------------------------------------------\u001b[0m",
            "\u001b[0;31mValueError\u001b[0m                                Traceback (most recent call last)",
            "\u001b[0;32m<ipython-input-19-9338a88fe4df>\u001b[0m in \u001b[0;36m<cell line: 11>\u001b[0;34m()\u001b[0m\n\u001b[1;32m     14\u001b[0m     \u001b[0mfile\u001b[0m\u001b[0;34m.\u001b[0m\u001b[0mwrite\u001b[0m\u001b[0;34m(\u001b[0m\u001b[0;34m\"\\n\"\u001b[0m\u001b[0;34m)\u001b[0m\u001b[0;34m\u001b[0m\u001b[0;34m\u001b[0m\u001b[0m\n\u001b[1;32m     15\u001b[0m   \u001b[0;32melse\u001b[0m\u001b[0;34m:\u001b[0m\u001b[0;34m\u001b[0m\u001b[0;34m\u001b[0m\u001b[0m\n\u001b[0;32m---> 16\u001b[0;31m     \u001b[0mfile\u001b[0m\u001b[0;34m.\u001b[0m\u001b[0mwrite\u001b[0m\u001b[0;34m(\u001b[0m\u001b[0mline\u001b[0m\u001b[0;34m)\u001b[0m\u001b[0;34m\u001b[0m\u001b[0;34m\u001b[0m\u001b[0m\n\u001b[0m\u001b[1;32m     17\u001b[0m     \u001b[0mfile\u001b[0m\u001b[0;34m.\u001b[0m\u001b[0mwrite\u001b[0m\u001b[0;34m(\u001b[0m\u001b[0;34m\"\\n\"\u001b[0m\u001b[0;34m)\u001b[0m\u001b[0;34m\u001b[0m\u001b[0;34m\u001b[0m\u001b[0m\n\u001b[1;32m     18\u001b[0m   \u001b[0mfile\u001b[0m\u001b[0;34m.\u001b[0m\u001b[0mclose\u001b[0m\u001b[0;34m(\u001b[0m\u001b[0;34m)\u001b[0m\u001b[0;34m\u001b[0m\u001b[0;34m\u001b[0m\u001b[0m\n",
            "\u001b[0;31mValueError\u001b[0m: I/O operation on closed file."
          ]
        }
      ]
    },
    {
      "cell_type": "code",
      "source": [
        "string_data = \"\"\"\n",
        "Google의 생성형 코드 기능은 기존 콘텐츠를 길게 복제하는 것이 아니라 오리지널 콘텐츠를 만들기 위한 것입니다.\n",
        "\"\"\"\n",
        "data = string_data.split(\"\\n\")\n",
        "print(data)\n",
        "file = open(\"string.txt\", \"w\")\n",
        "for line in data:\n",
        "  print(line)\n",
        "  if line == \"\":\n",
        "    file.write(\"\\n\")\n",
        "  else:\n",
        "    file.write(line)\n",
        "    file.write(\"\\n\")\n",
        "file.close()\n",
        "\n",
        "file1 = open(\"string.txt\", \"r\")\n",
        "data1 = file1.readlines()\n",
        "print(data1)\n",
        "for line in data1:\n",
        "  print(line, end=\"   \")\n",
        "file1.close()"
      ],
      "metadata": {
        "colab": {
          "base_uri": "https://localhost:8080/"
        },
        "id": "7MieOiIN4ZY8",
        "outputId": "644382e0-dcc8-42f0-d0d0-4c11d6f7b8b2"
      },
      "execution_count": null,
      "outputs": [
        {
          "output_type": "stream",
          "name": "stdout",
          "text": [
            "['', 'Google의 생성형 코드 기능은 기존 콘텐츠를 길게 복제하는 것이 아니라 오리지널 콘텐츠를 만들기 위한 것입니다.', '']\n",
            "\n",
            "Google의 생성형 코드 기능은 기존 콘텐츠를 길게 복제하는 것이 아니라 오리지널 콘텐츠를 만들기 위한 것입니다.\n",
            "\n",
            "['\\n', 'Google의 생성형 코드 기능은 기존 콘텐츠를 길게 복제하는 것이 아니라 오리지널 콘텐츠를 만들기 위한 것입니다.\\n', '\\n']\n",
            "\n",
            "   Google의 생성형 코드 기능은 기존 콘텐츠를 길게 복제하는 것이 아니라 오리지널 콘텐츠를 만들기 위한 것입니다.\n",
            "   \n",
            "   "
          ]
        }
      ]
    },
    {
      "cell_type": "code",
      "source": [],
      "metadata": {
        "id": "paWdCOOnNp7K"
      },
      "execution_count": null,
      "outputs": []
    },
    {
      "cell_type": "code",
      "source": [
        "import pickle\n",
        "file = open(\"my_file.txt\", \"wb\")\n",
        "num_data = 100\n",
        "list_data = [5, 6, 7]\n",
        "tuple_data = {1: 'AI', 2:'loT', 3:'Big Data'}\n",
        "pickle.dump(num_data, file)\n",
        "pickle.dump(list_data, file)\n",
        "pickle.dump(tuple_data, file)\n",
        "file.close()\n",
        "\n",
        "file.open(\"my_file.txt\", \"rb\")\n",
        "i = 0\n",
        "for i in range(3):\n",
        "  data = pickle.load(file)\n",
        "  print(data)\n"
      ],
      "metadata": {
        "colab": {
          "base_uri": "https://localhost:8080/",
          "height": 221
        },
        "id": "xdoMODUN5wSH",
        "outputId": "06fdd572-b13b-4710-b88b-913e85cb088f"
      },
      "execution_count": null,
      "outputs": [
        {
          "output_type": "error",
          "ename": "AttributeError",
          "evalue": "'_io.BufferedWriter' object has no attribute 'open'",
          "traceback": [
            "\u001b[0;31m---------------------------------------------------------------------------\u001b[0m",
            "\u001b[0;31mAttributeError\u001b[0m                            Traceback (most recent call last)",
            "\u001b[0;32m<ipython-input-2-3efdf6a2ea8d>\u001b[0m in \u001b[0;36m<cell line: 11>\u001b[0;34m()\u001b[0m\n\u001b[1;32m      9\u001b[0m \u001b[0mfile\u001b[0m\u001b[0;34m.\u001b[0m\u001b[0mclose\u001b[0m\u001b[0;34m(\u001b[0m\u001b[0;34m)\u001b[0m\u001b[0;34m\u001b[0m\u001b[0;34m\u001b[0m\u001b[0m\n\u001b[1;32m     10\u001b[0m \u001b[0;34m\u001b[0m\u001b[0m\n\u001b[0;32m---> 11\u001b[0;31m \u001b[0mfile\u001b[0m\u001b[0;34m.\u001b[0m\u001b[0mopen\u001b[0m\u001b[0;34m(\u001b[0m\u001b[0;34m\"my_file.txt\"\u001b[0m\u001b[0;34m,\u001b[0m \u001b[0;34m\"rb\"\u001b[0m\u001b[0;34m)\u001b[0m\u001b[0;34m\u001b[0m\u001b[0;34m\u001b[0m\u001b[0m\n\u001b[0m\u001b[1;32m     12\u001b[0m \u001b[0mi\u001b[0m \u001b[0;34m=\u001b[0m \u001b[0;36m0\u001b[0m\u001b[0;34m\u001b[0m\u001b[0;34m\u001b[0m\u001b[0m\n\u001b[1;32m     13\u001b[0m \u001b[0;32mfor\u001b[0m \u001b[0mi\u001b[0m \u001b[0;32min\u001b[0m \u001b[0mrange\u001b[0m\u001b[0;34m(\u001b[0m\u001b[0;36m3\u001b[0m\u001b[0;34m)\u001b[0m\u001b[0;34m:\u001b[0m\u001b[0;34m\u001b[0m\u001b[0;34m\u001b[0m\u001b[0m\n",
            "\u001b[0;31mAttributeError\u001b[0m: '_io.BufferedWriter' object has no attribute 'open'"
          ]
        }
      ]
    },
    {
      "cell_type": "code",
      "source": [
        "# Import necessary modules\n",
        "import pickle\n",
        "\n",
        "# Open the file for writing\n",
        "with open(\"my_file.txt\", \"wb\") as file:\n",
        "    # Write data to the file\n",
        "    num_data = 100\n",
        "    list_data = [5, 6, 7]\n",
        "    tuple_data = {1: 'AI', 2: 'loT', 3: 'Big Data'}\n",
        "    pickle.dump(num_data, file)\n",
        "    pickle.dump(list_data, file)\n",
        "    pickle.dump(tuple_data, file)\n",
        "\n",
        "# Open the file for reading\n",
        "with open(\"my_file.txt\", \"rb\") as file:\n",
        "    # Read data from the file\n",
        "    for i in range(3):\n",
        "        data = pickle.load(file)\n",
        "        print(data)"
      ],
      "metadata": {
        "colab": {
          "base_uri": "https://localhost:8080/"
        },
        "id": "92FoLH2IP58t",
        "outputId": "95eeb747-eb2f-4c02-b449-e9c125ae32ad"
      },
      "execution_count": null,
      "outputs": [
        {
          "output_type": "stream",
          "name": "stdout",
          "text": [
            "100\n",
            "[5, 6, 7]\n",
            "{1: 'AI', 2: 'loT', 3: 'Big Data'}\n"
          ]
        }
      ]
    },
    {
      "cell_type": "markdown",
      "source": [],
      "metadata": {
        "id": "Ab11VzdmU731"
      }
    },
    {
      "cell_type": "code",
      "source": [
        "#Suggested Changes:\n",
        "\n",
        "# Import necessary modules\n",
        "import pickle\n",
        "\n",
        "# Open the file for writing\n",
        "with open(\"my_file.txt\", \"wb\") as file:\n",
        "    # Write data to the file\n",
        "    num_data = 100\n",
        "    list_data = [5, 6, 7, 8]\n",
        "    tuple_data = {1: 'AI', 2: 'loT', 3: 'Big Data', 4:'Finish'}\n",
        "    pickle.dump(num_data, file)\n",
        "    pickle.dump(list_data, file)\n",
        "    pickle.dump(tuple_data, file)\n",
        "# Open the file for writing\n",
        "file = open(\"my_file.txt\", \"rb\")\n",
        "'''\n",
        "Explanation:\n",
        "\n",
        "The error AttributeError: '_io.BufferedWriter' object has no attribute 'open' occurs because the file variable is a BufferedWriter object, and it does not have an open method. To fix this error, you need to use the open function to open the file again, instead of using the file.open method.\n",
        "\n",
        "Here's a step-by-step explanation of the fix:\n",
        "\n",
        "Close the File:\n",
        "\n",
        "Before opening the file again, you need to close it first. This is because the BufferedWriter object is still open, and you cannot open the same file twice for reading and writing.\n",
        "\n",
        "'''\n",
        "file.close()\n",
        "\"\"\"\n",
        "Open the File for Reading:\n",
        "\n",
        "Use the open function to open the file for reading. Pass the file name and the mode \"rb\" (read binary) as arguments.\n",
        "\"\"\"\n",
        "\n",
        "file = open(\"my_file.txt\", \"rb\")\n",
        "'''\n",
        "Load the Data:\n",
        "\n",
        "After opening the file correctly, you can use the pickle.load function to load the data from the file.\n",
        "'''\n",
        "\n",
        "for i in range(3):\n",
        "       data = pickle.load(file)\n",
        "       print(data)\n",
        "'''\n",
        "Close the File:\n",
        "\n",
        "Finally, close the file after you are finished reading the data.\n",
        "'''\n",
        "\n",
        "file.close()"
      ],
      "metadata": {
        "id": "qGJPTQmHQr99",
        "colab": {
          "base_uri": "https://localhost:8080/"
        },
        "outputId": "1e9c0921-e8b0-48e8-adc0-91b10c8ece97"
      },
      "execution_count": 1,
      "outputs": [
        {
          "output_type": "stream",
          "name": "stdout",
          "text": [
            "100\n",
            "[5, 6, 7, 8]\n",
            "{1: 'AI', 2: 'loT', 3: 'Big Data', 4: 'Finish'}\n"
          ]
        }
      ]
    }
  ]
}